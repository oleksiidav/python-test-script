{
 "cells": [
  {
   "cell_type": "code",
   "execution_count": 0,
   "metadata": {
    "application/vnd.databricks.v1+cell": {
     "cellMetadata": {},
     "inputWidgets": {},
     "nuid": "f86225fe-1d9b-40d0-ae33-1ddc30edb74e",
     "showTitle": false,
     "title": ""
    }
   },
   "outputs": [],
   "source": [
    "1+1"
   ]
  }
 ],
 "metadata": {
  "application/vnd.databricks.v1+notebook": {
   "dashboards": [],
   "language": "python",
   "notebookMetadata": {
    "pythonIndentUnit": 2
   },
   "notebookName": "OnePlusOneNotebook",
   "notebookOrigID": 299914278791177,
   "widgets": {}
  }
 },
 "nbformat": 4,
 "nbformat_minor": 0
}
